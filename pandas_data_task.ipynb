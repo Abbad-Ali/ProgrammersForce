{
  "cells": [
    {
      "cell_type": "markdown",
      "metadata": {
        "id": "tvBbbUwWuW9S"
      },
      "source": [
        "# Perform the following analysis on the provided file \"demo.csv\".\n",
        "\n",
        "\n",
        "## 1. Which month saw the highest joining of the employees\n",
        "\n",
        "   function name: max_joinings_month()\n",
        "   \n",
        "   inputs: DataFrame\n",
        "\n",
        "   outputs: str\n",
        "   \n",
        "   \n",
        "## 2. What is the mean salary is the state KS\n",
        "\n",
        "   function name: mean_ks_salary()\n",
        "   \n",
        "   inputs: DataFrame\n",
        "\n",
        "   outputs: float\n",
        "   \n",
        "   \n",
        "## 3. Which Region has highest mean salary\n",
        "\n",
        "   function name: max_mean_salary_region()\n",
        "\n",
        "   inputs: DataFrame\n",
        "\n",
        "   outputs: str\n",
        "   \n",
        "   \n",
        "## 4. Which region has lowest mean salary\n",
        "\n",
        "   function name: min_mean_salary_region()\n",
        "\n",
        "   inputs: DataFrame\n",
        "\n",
        "   outputs: str\n",
        "   \n",
        "   \n",
        "## 5. Which City has highest mean weight\n",
        "\n",
        "   function name: max_mean_weight_city()\n",
        "\n",
        "   inputs: DataFrame\n",
        "\n",
        "   outputs: str\n",
        "   \n",
        "   \n",
        "## 6. What is the difference between mean salary of Doctors and Professors\n",
        "\n",
        "   function name: dr_prof_mean_salary_diff()\n",
        "\n",
        "   inputs: DataFrame\n",
        "\n",
        "   outputs: float\n",
        "   \n",
        "   \n",
        "## 7. How many female use yahoo\n",
        "\n",
        "   function name: females_with_yahoo()\n",
        "\n",
        "   inputs: DataFrame\n",
        "\n",
        "   outputs: int\n",
        "   \n",
        "   \n",
        "## 8. How many Doctors use gmail\n",
        "\n",
        "   function name: doctors_with_gmail()\n",
        "\n",
        "   inputs: DataFrame\n",
        "\n",
        "   outputs: int\n",
        "   \n",
        "   \n",
        "## 9. What is the password of the youngest male\n",
        "\n",
        "   function name: youngest_male_password()\n",
        "\n",
        "   inputs: DataFrame\n",
        "\n",
        "   outputs: str\n"
      ]
    },
    {
      "cell_type": "code",
      "execution_count": 2,
      "metadata": {
        "id": "5Pos8WYPuW9Y"
      },
      "outputs": [],
      "source": [
        "import pandas as pd"
      ]
    },
    {
      "cell_type": "code",
      "source": [
        "demo_data = pd.read_csv('/content/demo.csv')\n",
        "demo_data.head()"
      ],
      "metadata": {
        "id": "ZUN-RGPOvHYw",
        "colab": {
          "base_uri": "https://localhost:8080/",
          "height": 508
        },
        "outputId": "52b380b7-757a-45d6-e170-79c4a429db22"
      },
      "execution_count": 7,
      "outputs": [
        {
          "output_type": "execute_result",
          "data": {
            "text/plain": [
              "   Emp ID Name Prefix First Name Middle Initial  Last Name Gender  \\\n",
              "0  850297         Ms.     Shawna              W       Buck      F   \n",
              "1  304721         Mr.  Nathaniel              Z      Burke      M   \n",
              "2  412317        Drs.  Elisabeth              W     Foster      F   \n",
              "3  621375        Mrs.     Briana              C  Lancaster      F   \n",
              "4  787549        Hon.    Estella              L     Potter      F   \n",
              "\n",
              "                        E Mail      Father's Name     Mother's Name  \\\n",
              "0        shawna.buck@gmail.com       Rosario Buck       Keisha Buck   \n",
              "1  nathaniel.burke@walmart.com      Derrick Burke      Phoebe Burke   \n",
              "2   elisabeth.foster@gmail.com       Irwin Foster      Janie Foster   \n",
              "3   briana.lancaster@yahoo.com  Jeffrey Lancaster  Shelby Lancaster   \n",
              "4     estella.potter@gmail.com      Booker Potter    Katelyn Potter   \n",
              "\n",
              "  Mother's Maiden Name  ...          SSN    Phone No.   Place Name  \\\n",
              "0            Hendricks  ...  222-11-7603  702-771-7149   Las Vegas   \n",
              "1                 Pugh  ...  550-99-9897  231-765-6923       Irons   \n",
              "2              Delaney  ...  215-91-0004  270-749-4774   Lexington   \n",
              "3                Weiss  ...  534-71-1053  219-623-8216     Munster   \n",
              "4                 Pate  ...  644-29-6396  907-677-8486   Fairbanks   \n",
              "\n",
              "                 County       City State    Zip   Region    User Name  \\\n",
              "0                 Clark  Las Vegas    NV  89128     West       swbuck   \n",
              "1                  Lake      Irons    MI  49644  Midwest      nzburke   \n",
              "2               Fayette  Lexington    KY  40501    South     ewfoster   \n",
              "3                  Lake    Munster    IN  46321  Midwest  bclancaster   \n",
              "4  Fairbanks North Star  Fairbanks    AK  99709     West     elpotter   \n",
              "\n",
              "          Password  \n",
              "0  ja8?k3BTF^]o@<&  \n",
              "1   tPA@4Wh9Ja$+Ln  \n",
              "2  5D.B4IGNkWJfG<~  \n",
              "3        I%?JDM;pW  \n",
              "4      j4jkEXfC&Rh  \n",
              "\n",
              "[5 rows x 37 columns]"
            ],
            "text/html": [
              "\n",
              "\n",
              "  <div id=\"df-13aa38e0-7465-4e21-9410-829f91d75d50\">\n",
              "    <div class=\"colab-df-container\">\n",
              "      <div>\n",
              "<style scoped>\n",
              "    .dataframe tbody tr th:only-of-type {\n",
              "        vertical-align: middle;\n",
              "    }\n",
              "\n",
              "    .dataframe tbody tr th {\n",
              "        vertical-align: top;\n",
              "    }\n",
              "\n",
              "    .dataframe thead th {\n",
              "        text-align: right;\n",
              "    }\n",
              "</style>\n",
              "<table border=\"1\" class=\"dataframe\">\n",
              "  <thead>\n",
              "    <tr style=\"text-align: right;\">\n",
              "      <th></th>\n",
              "      <th>Emp ID</th>\n",
              "      <th>Name Prefix</th>\n",
              "      <th>First Name</th>\n",
              "      <th>Middle Initial</th>\n",
              "      <th>Last Name</th>\n",
              "      <th>Gender</th>\n",
              "      <th>E Mail</th>\n",
              "      <th>Father's Name</th>\n",
              "      <th>Mother's Name</th>\n",
              "      <th>Mother's Maiden Name</th>\n",
              "      <th>...</th>\n",
              "      <th>SSN</th>\n",
              "      <th>Phone No.</th>\n",
              "      <th>Place Name</th>\n",
              "      <th>County</th>\n",
              "      <th>City</th>\n",
              "      <th>State</th>\n",
              "      <th>Zip</th>\n",
              "      <th>Region</th>\n",
              "      <th>User Name</th>\n",
              "      <th>Password</th>\n",
              "    </tr>\n",
              "  </thead>\n",
              "  <tbody>\n",
              "    <tr>\n",
              "      <th>0</th>\n",
              "      <td>850297</td>\n",
              "      <td>Ms.</td>\n",
              "      <td>Shawna</td>\n",
              "      <td>W</td>\n",
              "      <td>Buck</td>\n",
              "      <td>F</td>\n",
              "      <td>shawna.buck@gmail.com</td>\n",
              "      <td>Rosario Buck</td>\n",
              "      <td>Keisha Buck</td>\n",
              "      <td>Hendricks</td>\n",
              "      <td>...</td>\n",
              "      <td>222-11-7603</td>\n",
              "      <td>702-771-7149</td>\n",
              "      <td>Las Vegas</td>\n",
              "      <td>Clark</td>\n",
              "      <td>Las Vegas</td>\n",
              "      <td>NV</td>\n",
              "      <td>89128</td>\n",
              "      <td>West</td>\n",
              "      <td>swbuck</td>\n",
              "      <td>ja8?k3BTF^]o@&lt;&amp;</td>\n",
              "    </tr>\n",
              "    <tr>\n",
              "      <th>1</th>\n",
              "      <td>304721</td>\n",
              "      <td>Mr.</td>\n",
              "      <td>Nathaniel</td>\n",
              "      <td>Z</td>\n",
              "      <td>Burke</td>\n",
              "      <td>M</td>\n",
              "      <td>nathaniel.burke@walmart.com</td>\n",
              "      <td>Derrick Burke</td>\n",
              "      <td>Phoebe Burke</td>\n",
              "      <td>Pugh</td>\n",
              "      <td>...</td>\n",
              "      <td>550-99-9897</td>\n",
              "      <td>231-765-6923</td>\n",
              "      <td>Irons</td>\n",
              "      <td>Lake</td>\n",
              "      <td>Irons</td>\n",
              "      <td>MI</td>\n",
              "      <td>49644</td>\n",
              "      <td>Midwest</td>\n",
              "      <td>nzburke</td>\n",
              "      <td>tPA@4Wh9Ja$+Ln</td>\n",
              "    </tr>\n",
              "    <tr>\n",
              "      <th>2</th>\n",
              "      <td>412317</td>\n",
              "      <td>Drs.</td>\n",
              "      <td>Elisabeth</td>\n",
              "      <td>W</td>\n",
              "      <td>Foster</td>\n",
              "      <td>F</td>\n",
              "      <td>elisabeth.foster@gmail.com</td>\n",
              "      <td>Irwin Foster</td>\n",
              "      <td>Janie Foster</td>\n",
              "      <td>Delaney</td>\n",
              "      <td>...</td>\n",
              "      <td>215-91-0004</td>\n",
              "      <td>270-749-4774</td>\n",
              "      <td>Lexington</td>\n",
              "      <td>Fayette</td>\n",
              "      <td>Lexington</td>\n",
              "      <td>KY</td>\n",
              "      <td>40501</td>\n",
              "      <td>South</td>\n",
              "      <td>ewfoster</td>\n",
              "      <td>5D.B4IGNkWJfG&lt;~</td>\n",
              "    </tr>\n",
              "    <tr>\n",
              "      <th>3</th>\n",
              "      <td>621375</td>\n",
              "      <td>Mrs.</td>\n",
              "      <td>Briana</td>\n",
              "      <td>C</td>\n",
              "      <td>Lancaster</td>\n",
              "      <td>F</td>\n",
              "      <td>briana.lancaster@yahoo.com</td>\n",
              "      <td>Jeffrey Lancaster</td>\n",
              "      <td>Shelby Lancaster</td>\n",
              "      <td>Weiss</td>\n",
              "      <td>...</td>\n",
              "      <td>534-71-1053</td>\n",
              "      <td>219-623-8216</td>\n",
              "      <td>Munster</td>\n",
              "      <td>Lake</td>\n",
              "      <td>Munster</td>\n",
              "      <td>IN</td>\n",
              "      <td>46321</td>\n",
              "      <td>Midwest</td>\n",
              "      <td>bclancaster</td>\n",
              "      <td>I%?JDM;pW</td>\n",
              "    </tr>\n",
              "    <tr>\n",
              "      <th>4</th>\n",
              "      <td>787549</td>\n",
              "      <td>Hon.</td>\n",
              "      <td>Estella</td>\n",
              "      <td>L</td>\n",
              "      <td>Potter</td>\n",
              "      <td>F</td>\n",
              "      <td>estella.potter@gmail.com</td>\n",
              "      <td>Booker Potter</td>\n",
              "      <td>Katelyn Potter</td>\n",
              "      <td>Pate</td>\n",
              "      <td>...</td>\n",
              "      <td>644-29-6396</td>\n",
              "      <td>907-677-8486</td>\n",
              "      <td>Fairbanks</td>\n",
              "      <td>Fairbanks North Star</td>\n",
              "      <td>Fairbanks</td>\n",
              "      <td>AK</td>\n",
              "      <td>99709</td>\n",
              "      <td>West</td>\n",
              "      <td>elpotter</td>\n",
              "      <td>j4jkEXfC&amp;Rh</td>\n",
              "    </tr>\n",
              "  </tbody>\n",
              "</table>\n",
              "<p>5 rows × 37 columns</p>\n",
              "</div>\n",
              "      <button class=\"colab-df-convert\" onclick=\"convertToInteractive('df-13aa38e0-7465-4e21-9410-829f91d75d50')\"\n",
              "              title=\"Convert this dataframe to an interactive table.\"\n",
              "              style=\"display:none;\">\n",
              "\n",
              "  <svg xmlns=\"http://www.w3.org/2000/svg\" height=\"24px\"viewBox=\"0 0 24 24\"\n",
              "       width=\"24px\">\n",
              "    <path d=\"M0 0h24v24H0V0z\" fill=\"none\"/>\n",
              "    <path d=\"M18.56 5.44l.94 2.06.94-2.06 2.06-.94-2.06-.94-.94-2.06-.94 2.06-2.06.94zm-11 1L8.5 8.5l.94-2.06 2.06-.94-2.06-.94L8.5 2.5l-.94 2.06-2.06.94zm10 10l.94 2.06.94-2.06 2.06-.94-2.06-.94-.94-2.06-.94 2.06-2.06.94z\"/><path d=\"M17.41 7.96l-1.37-1.37c-.4-.4-.92-.59-1.43-.59-.52 0-1.04.2-1.43.59L10.3 9.45l-7.72 7.72c-.78.78-.78 2.05 0 2.83L4 21.41c.39.39.9.59 1.41.59.51 0 1.02-.2 1.41-.59l7.78-7.78 2.81-2.81c.8-.78.8-2.07 0-2.86zM5.41 20L4 18.59l7.72-7.72 1.47 1.35L5.41 20z\"/>\n",
              "  </svg>\n",
              "      </button>\n",
              "\n",
              "\n",
              "\n",
              "    <div id=\"df-7e77f8e9-6d06-45f6-8bac-18ec565ac9bb\">\n",
              "      <button class=\"colab-df-quickchart\" onclick=\"quickchart('df-7e77f8e9-6d06-45f6-8bac-18ec565ac9bb')\"\n",
              "              title=\"Suggest charts.\"\n",
              "              style=\"display:none;\">\n",
              "\n",
              "<svg xmlns=\"http://www.w3.org/2000/svg\" height=\"24px\"viewBox=\"0 0 24 24\"\n",
              "     width=\"24px\">\n",
              "    <g>\n",
              "        <path d=\"M19 3H5c-1.1 0-2 .9-2 2v14c0 1.1.9 2 2 2h14c1.1 0 2-.9 2-2V5c0-1.1-.9-2-2-2zM9 17H7v-7h2v7zm4 0h-2V7h2v10zm4 0h-2v-4h2v4z\"/>\n",
              "    </g>\n",
              "</svg>\n",
              "      </button>\n",
              "    </div>\n",
              "\n",
              "<style>\n",
              "  .colab-df-quickchart {\n",
              "    background-color: #E8F0FE;\n",
              "    border: none;\n",
              "    border-radius: 50%;\n",
              "    cursor: pointer;\n",
              "    display: none;\n",
              "    fill: #1967D2;\n",
              "    height: 32px;\n",
              "    padding: 0 0 0 0;\n",
              "    width: 32px;\n",
              "  }\n",
              "\n",
              "  .colab-df-quickchart:hover {\n",
              "    background-color: #E2EBFA;\n",
              "    box-shadow: 0px 1px 2px rgba(60, 64, 67, 0.3), 0px 1px 3px 1px rgba(60, 64, 67, 0.15);\n",
              "    fill: #174EA6;\n",
              "  }\n",
              "\n",
              "  [theme=dark] .colab-df-quickchart {\n",
              "    background-color: #3B4455;\n",
              "    fill: #D2E3FC;\n",
              "  }\n",
              "\n",
              "  [theme=dark] .colab-df-quickchart:hover {\n",
              "    background-color: #434B5C;\n",
              "    box-shadow: 0px 1px 3px 1px rgba(0, 0, 0, 0.15);\n",
              "    filter: drop-shadow(0px 1px 2px rgba(0, 0, 0, 0.3));\n",
              "    fill: #FFFFFF;\n",
              "  }\n",
              "</style>\n",
              "\n",
              "    <script>\n",
              "      async function quickchart(key) {\n",
              "        const containerElement = document.querySelector('#' + key);\n",
              "        const charts = await google.colab.kernel.invokeFunction(\n",
              "            'suggestCharts', [key], {});\n",
              "      }\n",
              "    </script>\n",
              "\n",
              "      <script>\n",
              "\n",
              "function displayQuickchartButton(domScope) {\n",
              "  let quickchartButtonEl =\n",
              "    domScope.querySelector('#df-7e77f8e9-6d06-45f6-8bac-18ec565ac9bb button.colab-df-quickchart');\n",
              "  quickchartButtonEl.style.display =\n",
              "    google.colab.kernel.accessAllowed ? 'block' : 'none';\n",
              "}\n",
              "\n",
              "        displayQuickchartButton(document);\n",
              "      </script>\n",
              "      <style>\n",
              "    .colab-df-container {\n",
              "      display:flex;\n",
              "      flex-wrap:wrap;\n",
              "      gap: 12px;\n",
              "    }\n",
              "\n",
              "    .colab-df-convert {\n",
              "      background-color: #E8F0FE;\n",
              "      border: none;\n",
              "      border-radius: 50%;\n",
              "      cursor: pointer;\n",
              "      display: none;\n",
              "      fill: #1967D2;\n",
              "      height: 32px;\n",
              "      padding: 0 0 0 0;\n",
              "      width: 32px;\n",
              "    }\n",
              "\n",
              "    .colab-df-convert:hover {\n",
              "      background-color: #E2EBFA;\n",
              "      box-shadow: 0px 1px 2px rgba(60, 64, 67, 0.3), 0px 1px 3px 1px rgba(60, 64, 67, 0.15);\n",
              "      fill: #174EA6;\n",
              "    }\n",
              "\n",
              "    [theme=dark] .colab-df-convert {\n",
              "      background-color: #3B4455;\n",
              "      fill: #D2E3FC;\n",
              "    }\n",
              "\n",
              "    [theme=dark] .colab-df-convert:hover {\n",
              "      background-color: #434B5C;\n",
              "      box-shadow: 0px 1px 3px 1px rgba(0, 0, 0, 0.15);\n",
              "      filter: drop-shadow(0px 1px 2px rgba(0, 0, 0, 0.3));\n",
              "      fill: #FFFFFF;\n",
              "    }\n",
              "  </style>\n",
              "\n",
              "      <script>\n",
              "        const buttonEl =\n",
              "          document.querySelector('#df-13aa38e0-7465-4e21-9410-829f91d75d50 button.colab-df-convert');\n",
              "        buttonEl.style.display =\n",
              "          google.colab.kernel.accessAllowed ? 'block' : 'none';\n",
              "\n",
              "        async function convertToInteractive(key) {\n",
              "          const element = document.querySelector('#df-13aa38e0-7465-4e21-9410-829f91d75d50');\n",
              "          const dataTable =\n",
              "            await google.colab.kernel.invokeFunction('convertToInteractive',\n",
              "                                                     [key], {});\n",
              "          if (!dataTable) return;\n",
              "\n",
              "          const docLinkHtml = 'Like what you see? Visit the ' +\n",
              "            '<a target=\"_blank\" href=https://colab.research.google.com/notebooks/data_table.ipynb>data table notebook</a>'\n",
              "            + ' to learn more about interactive tables.';\n",
              "          element.innerHTML = '';\n",
              "          dataTable['output_type'] = 'display_data';\n",
              "          await google.colab.output.renderOutput(dataTable, element);\n",
              "          const docLink = document.createElement('div');\n",
              "          docLink.innerHTML = docLinkHtml;\n",
              "          element.appendChild(docLink);\n",
              "        }\n",
              "      </script>\n",
              "    </div>\n",
              "  </div>\n"
            ]
          },
          "metadata": {},
          "execution_count": 7
        }
      ]
    },
    {
      "cell_type": "markdown",
      "metadata": {
        "id": "n_fTzTbPuW9a"
      },
      "source": [
        "## 1. Which month saw the highest joining of the employees\n",
        "\n",
        "   function name: max_joinings_month()\n",
        "   \n",
        "   inputs: DataFrame\n",
        "\n",
        "   outputs: str"
      ]
    },
    {
      "cell_type": "code",
      "execution_count": 33,
      "metadata": {
        "id": "Ol33tFG-uW9a",
        "colab": {
          "base_uri": "https://localhost:8080/"
        },
        "outputId": "9146fe27-926b-457d-df4e-b13e587e390b"
      },
      "outputs": [
        {
          "output_type": "stream",
          "name": "stdout",
          "text": [
            "the month with maximum joining is: April\n"
          ]
        }
      ],
      "source": [
        "Month_count= values_count= demo_data['Month Name of Joining'].value_counts()\n",
        "max_joinings_month = Month_count.idxmax()\n",
        "print(f'the month with maximum joining is: {max_joinings_month}')"
      ]
    },
    {
      "cell_type": "markdown",
      "metadata": {
        "id": "rVE_BdqIuW9b"
      },
      "source": [
        "## 2. What is the mean salary is the state KS\n",
        "\n",
        "   function name: mean_ks_salary()\n",
        "   \n",
        "   inputs: DataFrame\n",
        "\n",
        "   outputs: float"
      ]
    },
    {
      "cell_type": "code",
      "execution_count": 37,
      "metadata": {
        "id": "UpoU-UakuW9b",
        "colab": {
          "base_uri": "https://localhost:8080/"
        },
        "outputId": "a95ca0d5-4354-496d-8ed9-3f53f49264da"
      },
      "outputs": [
        {
          "output_type": "stream",
          "name": "stdout",
          "text": [
            "104225.45454545454\n"
          ]
        }
      ],
      "source": [
        "mean_ks_salary= demo_data.loc[demo_data['State']==\"KS\", 'Salary'].mean()\n",
        "print(mean_ks_salary)"
      ]
    },
    {
      "cell_type": "markdown",
      "metadata": {
        "id": "Vgd5Fb5CuW9c"
      },
      "source": [
        "## 3. Which Region has highest mean salary\n",
        "\n",
        "   function name: max_mean_salary_region()\n",
        "\n",
        "   inputs: DataFrame\n",
        "\n",
        "   outputs: str"
      ]
    },
    {
      "cell_type": "code",
      "execution_count": 43,
      "metadata": {
        "id": "7HOPwotyuW9c",
        "colab": {
          "base_uri": "https://localhost:8080/"
        },
        "outputId": "8cf9c321-eff2-42a3-c44f-bfde687f8471"
      },
      "outputs": [
        {
          "output_type": "stream",
          "name": "stdout",
          "text": [
            "the highest salary region is : Midwest having value of 122633.6456140351\n"
          ]
        }
      ],
      "source": [
        "max_mean_salary_region = demo_data.groupby('Region')['Salary'].mean()\n",
        "print(f'the highest salary region is : {max_mean_salary_region.idxmax()} having value of {max_mean_salary_region.max()}')"
      ]
    },
    {
      "cell_type": "markdown",
      "metadata": {
        "id": "wawx6nHmuW9d"
      },
      "source": [
        "## 4. Which region has lowest mean salary\n",
        "\n",
        "   function name: min_mean_salary_region()\n",
        "\n",
        "   inputs: DataFrame\n",
        "\n",
        "   outputs: str"
      ]
    },
    {
      "cell_type": "code",
      "execution_count": 44,
      "metadata": {
        "id": "dH61IHpFuW9d",
        "colab": {
          "base_uri": "https://localhost:8080/"
        },
        "outputId": "9ff11e5d-d343-43c4-8a15-505c564de282"
      },
      "outputs": [
        {
          "output_type": "stream",
          "name": "stdout",
          "text": [
            "the highest salary region is : West having value of 118910.1975308642\n"
          ]
        }
      ],
      "source": [
        "min_mean_salary_region = demo_data.groupby('Region')['Salary'].mean()\n",
        "print(f'the lowest salary region is : {min_mean_salary_region.idxmin()} having value of {min_mean_salary_region.min()}')"
      ]
    },
    {
      "cell_type": "markdown",
      "metadata": {
        "id": "MSpzMJpPuW9d"
      },
      "source": [
        "## 5. Which City has highest mean weight\n",
        "\n",
        "   function name: max_mean_weight_city()\n",
        "\n",
        "   inputs: DataFrame\n",
        "\n",
        "   outputs: str"
      ]
    },
    {
      "cell_type": "code",
      "execution_count": 46,
      "metadata": {
        "id": "m2gP7FpMuW9e",
        "colab": {
          "base_uri": "https://localhost:8080/"
        },
        "outputId": "d642b3c8-e4ac-42e1-fea1-25f6e348e0a5"
      },
      "outputs": [
        {
          "output_type": "stream",
          "name": "stdout",
          "text": [
            "The highest mean weight in found in Conroe having mean value of 90.0\n"
          ]
        }
      ],
      "source": [
        "max_mean_weight_city= demo_data.groupby('City')['Weight in Kgs.'].mean()\n",
        "print(f'The highest mean weight in found in {max_mean_weight_city.idxmax()} having mean value of {max_mean_weight_city.max()}')"
      ]
    },
    {
      "cell_type": "markdown",
      "metadata": {
        "id": "amq4sSZ5uW9e"
      },
      "source": [
        "## 6. What is the difference between mean salary of Doctors and Professors\n",
        "\n",
        "   function name: dr_prof_mean_salary_diff()\n",
        "\n",
        "   inputs: DataFrame\n",
        "\n",
        "   outputs: float"
      ]
    },
    {
      "cell_type": "code",
      "execution_count": 58,
      "metadata": {
        "id": "nXuEdsLBuW9f",
        "colab": {
          "base_uri": "https://localhost:8080/"
        },
        "outputId": "273987f2-549e-440f-fa95-1d9e7089d07a"
      },
      "outputs": [
        {
          "output_type": "stream",
          "name": "stdout",
          "text": [
            "The mean salary differnece between doctors and professors is: -2635.981785063763\n"
          ]
        }
      ],
      "source": [
        "mean_salary_dr = demo_data[(demo_data['Name Prefix'] == 'Dr.') | (demo_data['Name Prefix'] == 'Drs.')]['Salary'].mean()\n",
        "mean_salary_pr = demo_data[demo_data['Name Prefix']==\"Prof.\"]['Salary'].mean()\n",
        "dr_prof_mean_salary_diff= mean_salary_dr - mean_salary_pr\n",
        "print(f'The mean salary differnece between doctors and professors is: {dr_prof_mean_salary_diff}')"
      ]
    },
    {
      "cell_type": "markdown",
      "metadata": {
        "id": "WCgvbyRHuW9f"
      },
      "source": [
        "## 7. How many female use yahoo\n",
        "\n",
        "   function name: females_with_yahoo()\n",
        "\n",
        "   inputs: DataFrame\n",
        "\n",
        "   outputs: int"
      ]
    },
    {
      "cell_type": "code",
      "execution_count": 87,
      "metadata": {
        "id": "z17LU2IVuW9f",
        "colab": {
          "base_uri": "https://localhost:8080/"
        },
        "outputId": "87c43c9e-c385-4a39-e2ee-85baf5b3e49a"
      },
      "outputs": [
        {
          "output_type": "stream",
          "name": "stdout",
          "text": [
            "No. of females using Yahoo: 69\n"
          ]
        }
      ],
      "source": [
        "female_users = demo_data[demo_data['Gender'] == 'F']\n",
        "yahoo_users = female_users[female_users['E Mail'].str.contains('@yahoo.')]['E Mail'].count()\n",
        "\n",
        "print(f'No. of females using Yahoo: {yahoo_users}')"
      ]
    },
    {
      "cell_type": "markdown",
      "metadata": {
        "id": "LRx_pxOPuW9g"
      },
      "source": [
        "## 8. How many Doctors use gmail\n",
        "\n",
        "   function name: doctors_with_gmail()\n",
        "\n",
        "   inputs: DataFrame\n",
        "\n",
        "   outputs: int"
      ]
    },
    {
      "cell_type": "code",
      "execution_count": 85,
      "metadata": {
        "id": "58Qmeg9nuW9g",
        "colab": {
          "base_uri": "https://localhost:8080/"
        },
        "outputId": "0873ebfa-e6cc-4240-aba9-89b0db647dbe"
      },
      "outputs": [
        {
          "output_type": "stream",
          "name": "stdout",
          "text": [
            "No. of females using Yahoo: 42\n"
          ]
        }
      ],
      "source": [
        "doctors_users = demo_data[(demo_data['Name Prefix'] == 'Dr.') | (demo_data['Name Prefix'] == 'Drs.')]\n",
        "doctors_with_gmail = doctors_users[doctors_users['E Mail'].str.endswith('@gmail.com')]['E Mail'].count()\n",
        "\n",
        "print(f'No. of females using Yahoo: {doctors_with_gmail}')"
      ]
    },
    {
      "cell_type": "markdown",
      "metadata": {
        "id": "wAMZIWg5uW9h"
      },
      "source": [
        "## 9. What is the password of the youngest male\n",
        "\n",
        "   function name: youngest_male_password()\n",
        "\n",
        "   inputs: DataFrame\n",
        "\n",
        "   outputs: str"
      ]
    },
    {
      "cell_type": "code",
      "execution_count": 70,
      "metadata": {
        "id": "LMs7ZxjRuW9h",
        "colab": {
          "base_uri": "https://localhost:8080/"
        },
        "outputId": "94447d65-a42c-4095-e30d-a91ac8101f90"
      },
      "outputs": [
        {
          "output_type": "stream",
          "name": "stdout",
          "text": [
            "Usama bhai, password youngest male ka ye hai : xPr\\aGPTQ#v\n"
          ]
        }
      ],
      "source": [
        "male = demo_data[demo_data['Gender']=='M']\n",
        "youngest_male = demo_data.loc[demo_data['Age in Yrs.'].idxmin()]\n",
        "youngest_male_password= youngest_male['Password']\n",
        "print(f'Usama bhai, password youngest male ka ye hai : {youngest_male_password}')"
      ]
    }
  ],
  "metadata": {
    "kernelspec": {
      "display_name": "unet_ml11",
      "language": "python",
      "name": "unet_ml11"
    },
    "language_info": {
      "codemirror_mode": {
        "name": "ipython",
        "version": 3
      },
      "file_extension": ".py",
      "mimetype": "text/x-python",
      "name": "python",
      "nbconvert_exporter": "python",
      "pygments_lexer": "ipython3",
      "version": "3.6.9"
    },
    "colab": {
      "provenance": []
    }
  },
  "nbformat": 4,
  "nbformat_minor": 0
}