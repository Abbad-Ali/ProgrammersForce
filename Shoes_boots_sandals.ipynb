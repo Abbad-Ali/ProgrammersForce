{
  "nbformat": 4,
  "nbformat_minor": 0,
  "metadata": {
    "colab": {
      "provenance": []
    },
    "kernelspec": {
      "name": "python3",
      "display_name": "Python 3"
    },
    "language_info": {
      "name": "python"
    }
  },
  "cells": [
    {
      "cell_type": "markdown",
      "source": [
        "Notebook to Categorize the shoes, boots and sandals from a large pool of unabelled images."
      ],
      "metadata": {
        "id": "EhVHp437UA1X"
      }
    },
    {
      "cell_type": "code",
      "source": [
        "import os\n",
        "import cv2\n",
        "import numpy as np\n",
        "import tensorflow as tf\n",
        "from tensorflow.keras.applications import ResNet50\n",
        "from sklearn.cluster import KMeans\n",
        "\n",
        "# Function to preprocess and extract features from images using ResNet50\n",
        "def extract_features(images):\n",
        "    model = ResNet50(include_top=False, weights='imagenet', input_shape=(224, 224, 3))\n",
        "    preprocess_input = tf.keras.applications.resnet.preprocess_input\n",
        "\n",
        "    processed_images = [cv2.resize(img, (224, 224)) for img in images]\n",
        "    processed_images = np.array(processed_images)\n",
        "    processed_images = preprocess_input(processed_images)\n",
        "\n",
        "    image_features = model.predict(processed_images)\n",
        "    image_features = image_features.reshape(image_features.shape[0], -1)  # Flatten the features\n",
        "    return image_features\n",
        "\n",
        "# Function to move images to corresponding folders based on cluster assignments\n",
        "def move_images_to_folders(images, cluster_assignments, output_folder):\n",
        "    for cluster_id in np.unique(cluster_assignments):\n",
        "        cluster_folder = os.path.join(output_folder, f'cluster_{cluster_id}')\n",
        "        os.makedirs(cluster_folder, exist_ok=True)\n",
        "\n",
        "        cluster_indices = np.where(cluster_assignments == cluster_id)[0]\n",
        "        for idx in cluster_indices:\n",
        "            image = images[idx]\n",
        "            img_name = f'image_{idx}.jpg'\n",
        "            img_path = os.path.join(cluster_folder, img_name)\n",
        "            cv2.imwrite(img_path, image)\n",
        "\n",
        "# Load all images from the folder\n",
        "data_folder = '/content/drive/MyDrive/Data-PF/shoe_boot_sandal/shoe_boot_sandal'\n",
        "image_files = [os.path.join(data_folder, filename) for filename in os.listdir(data_folder)]\n",
        "images = [cv2.imread(img_file) for img_file in image_files]\n",
        "\n",
        "# Extract features using ResNet50\n",
        "image_features = extract_features(images)\n",
        "\n",
        "# Perform K-Means clustering\n",
        "kmeans = KMeans(n_clusters=3, random_state=42)\n",
        "cluster_assignments = kmeans.fit_predict(image_features)\n",
        "\n",
        "# Move images to corresponding folders based on cluster assignments\n",
        "output_folder = '/content/drive/MyDrive/Data-PF/categorized images'\n",
        "move_images_to_folders(images, cluster_assignments, output_folder)\n"
      ],
      "metadata": {
        "id": "AX_8KAU5yNpN"
      },
      "execution_count": null,
      "outputs": []
    }
  ]
}