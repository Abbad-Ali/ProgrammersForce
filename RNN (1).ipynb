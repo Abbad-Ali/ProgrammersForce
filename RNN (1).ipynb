{
  "nbformat": 4,
  "nbformat_minor": 0,
  "metadata": {
    "colab": {
      "provenance": []
    },
    "kernelspec": {
      "name": "python3",
      "display_name": "Python 3"
    },
    "language_info": {
      "name": "python"
    }
  },
  "cells": [
    {
      "cell_type": "code",
      "source": [
        "import pandas as pd\n",
        "import regex as re\n",
        "import numpy as np\n",
        "from gensim.models import word2vec\n",
        "from sklearn.model_selection import train_test_split\n",
        "import string\n",
        "from tensorflow.keras.models import Sequential\n",
        "from tensorflow.keras.layers import Embedding, SimpleRNN, Dense, Bidirectional , LSTM\n",
        "from tensorflow.keras.preprocessing.text import Tokenizer\n",
        "from tensorflow.keras.preprocessing.sequence import pad_sequences\n",
        "import gensim.downloader as api\n",
        "import nltk\n",
        "from nltk import PorterStemmer , word_tokenize, sent_tokenize\n",
        "from nltk.corpus import stopwords\n",
        "from sklearn.feature_extraction.text import CountVectorizer, TfidfVectorizer\n",
        "nltk.download(\"wordnet\")\n",
        "nltk.download(\"punkt\")\n",
        "nltk.download(\"stopwords\")"
      ],
      "metadata": {
        "colab": {
          "base_uri": "https://localhost:8080/"
        },
        "id": "SkdoExOdGdFZ",
        "outputId": "232cd293-50e2-4420-a05b-a39acf639abe"
      },
      "execution_count": 47,
      "outputs": [
        {
          "output_type": "stream",
          "name": "stderr",
          "text": [
            "[nltk_data] Downloading package wordnet to /root/nltk_data...\n",
            "[nltk_data]   Package wordnet is already up-to-date!\n",
            "[nltk_data] Downloading package punkt to /root/nltk_data...\n",
            "[nltk_data]   Package punkt is already up-to-date!\n",
            "[nltk_data] Downloading package stopwords to /root/nltk_data...\n",
            "[nltk_data]   Package stopwords is already up-to-date!\n"
          ]
        },
        {
          "output_type": "execute_result",
          "data": {
            "text/plain": [
              "True"
            ]
          },
          "metadata": {},
          "execution_count": 47
        }
      ]
    },
    {
      "cell_type": "code",
      "source": [
        "# Load the CSV file into a pandas DataFrame\n",
        "file_path = \"/content/drive/MyDrive/Data-PF/spam.csv\"\n",
        "df = pd.read_csv(file_path, encoding='latin1', usecols=['v1', 'v2'])\n",
        "\n",
        "# Display the first few rows\n",
        "print(df.head())"
      ],
      "metadata": {
        "id": "HcaF7ddAy7eI"
      },
      "execution_count": null,
      "outputs": []
    },
    {
      "cell_type": "code",
      "source": [
        "# changing labels\n",
        "\n",
        "df.columns =['label', 'email']\n",
        "# Assuming 'ham' is encoded as 0 and 'spam' is encoded as 1\n",
        "df['label'] = df['label'].map({'ham': 0, 'spam': 1})\n",
        "\n",
        "df.head()"
      ],
      "metadata": {
        "colab": {
          "base_uri": "https://localhost:8080/",
          "height": 206
        },
        "id": "I5pfPsQxKRDb",
        "outputId": "dd2d6dfc-ed3c-41c0-b2c1-c88356561c4a"
      },
      "execution_count": 5,
      "outputs": [
        {
          "output_type": "execute_result",
          "data": {
            "text/plain": [
              "   label                                              email\n",
              "0      0  Go until jurong point, crazy.. Available only ...\n",
              "1      0                      Ok lar... Joking wif u oni...\n",
              "2      1  Free entry in 2 a wkly comp to win FA Cup fina...\n",
              "3      0  U dun say so early hor... U c already then say...\n",
              "4      0  Nah I don't think he goes to usf, he lives aro..."
            ],
            "text/html": [
              "\n",
              "\n",
              "  <div id=\"df-4a52a9db-db3b-49d4-bd76-26acf47697b2\">\n",
              "    <div class=\"colab-df-container\">\n",
              "      <div>\n",
              "<style scoped>\n",
              "    .dataframe tbody tr th:only-of-type {\n",
              "        vertical-align: middle;\n",
              "    }\n",
              "\n",
              "    .dataframe tbody tr th {\n",
              "        vertical-align: top;\n",
              "    }\n",
              "\n",
              "    .dataframe thead th {\n",
              "        text-align: right;\n",
              "    }\n",
              "</style>\n",
              "<table border=\"1\" class=\"dataframe\">\n",
              "  <thead>\n",
              "    <tr style=\"text-align: right;\">\n",
              "      <th></th>\n",
              "      <th>label</th>\n",
              "      <th>email</th>\n",
              "    </tr>\n",
              "  </thead>\n",
              "  <tbody>\n",
              "    <tr>\n",
              "      <th>0</th>\n",
              "      <td>0</td>\n",
              "      <td>Go until jurong point, crazy.. Available only ...</td>\n",
              "    </tr>\n",
              "    <tr>\n",
              "      <th>1</th>\n",
              "      <td>0</td>\n",
              "      <td>Ok lar... Joking wif u oni...</td>\n",
              "    </tr>\n",
              "    <tr>\n",
              "      <th>2</th>\n",
              "      <td>1</td>\n",
              "      <td>Free entry in 2 a wkly comp to win FA Cup fina...</td>\n",
              "    </tr>\n",
              "    <tr>\n",
              "      <th>3</th>\n",
              "      <td>0</td>\n",
              "      <td>U dun say so early hor... U c already then say...</td>\n",
              "    </tr>\n",
              "    <tr>\n",
              "      <th>4</th>\n",
              "      <td>0</td>\n",
              "      <td>Nah I don't think he goes to usf, he lives aro...</td>\n",
              "    </tr>\n",
              "  </tbody>\n",
              "</table>\n",
              "</div>\n",
              "      <button class=\"colab-df-convert\" onclick=\"convertToInteractive('df-4a52a9db-db3b-49d4-bd76-26acf47697b2')\"\n",
              "              title=\"Convert this dataframe to an interactive table.\"\n",
              "              style=\"display:none;\">\n",
              "\n",
              "  <svg xmlns=\"http://www.w3.org/2000/svg\" height=\"24px\"viewBox=\"0 0 24 24\"\n",
              "       width=\"24px\">\n",
              "    <path d=\"M0 0h24v24H0V0z\" fill=\"none\"/>\n",
              "    <path d=\"M18.56 5.44l.94 2.06.94-2.06 2.06-.94-2.06-.94-.94-2.06-.94 2.06-2.06.94zm-11 1L8.5 8.5l.94-2.06 2.06-.94-2.06-.94L8.5 2.5l-.94 2.06-2.06.94zm10 10l.94 2.06.94-2.06 2.06-.94-2.06-.94-.94-2.06-.94 2.06-2.06.94z\"/><path d=\"M17.41 7.96l-1.37-1.37c-.4-.4-.92-.59-1.43-.59-.52 0-1.04.2-1.43.59L10.3 9.45l-7.72 7.72c-.78.78-.78 2.05 0 2.83L4 21.41c.39.39.9.59 1.41.59.51 0 1.02-.2 1.41-.59l7.78-7.78 2.81-2.81c.8-.78.8-2.07 0-2.86zM5.41 20L4 18.59l7.72-7.72 1.47 1.35L5.41 20z\"/>\n",
              "  </svg>\n",
              "      </button>\n",
              "\n",
              "\n",
              "\n",
              "    <div id=\"df-db6b5394-e3ce-440c-a48d-b02bce388d32\">\n",
              "      <button class=\"colab-df-quickchart\" onclick=\"quickchart('df-db6b5394-e3ce-440c-a48d-b02bce388d32')\"\n",
              "              title=\"Suggest charts.\"\n",
              "              style=\"display:none;\">\n",
              "\n",
              "<svg xmlns=\"http://www.w3.org/2000/svg\" height=\"24px\"viewBox=\"0 0 24 24\"\n",
              "     width=\"24px\">\n",
              "    <g>\n",
              "        <path d=\"M19 3H5c-1.1 0-2 .9-2 2v14c0 1.1.9 2 2 2h14c1.1 0 2-.9 2-2V5c0-1.1-.9-2-2-2zM9 17H7v-7h2v7zm4 0h-2V7h2v10zm4 0h-2v-4h2v4z\"/>\n",
              "    </g>\n",
              "</svg>\n",
              "      </button>\n",
              "    </div>\n",
              "\n",
              "<style>\n",
              "  .colab-df-quickchart {\n",
              "    background-color: #E8F0FE;\n",
              "    border: none;\n",
              "    border-radius: 50%;\n",
              "    cursor: pointer;\n",
              "    display: none;\n",
              "    fill: #1967D2;\n",
              "    height: 32px;\n",
              "    padding: 0 0 0 0;\n",
              "    width: 32px;\n",
              "  }\n",
              "\n",
              "  .colab-df-quickchart:hover {\n",
              "    background-color: #E2EBFA;\n",
              "    box-shadow: 0px 1px 2px rgba(60, 64, 67, 0.3), 0px 1px 3px 1px rgba(60, 64, 67, 0.15);\n",
              "    fill: #174EA6;\n",
              "  }\n",
              "\n",
              "  [theme=dark] .colab-df-quickchart {\n",
              "    background-color: #3B4455;\n",
              "    fill: #D2E3FC;\n",
              "  }\n",
              "\n",
              "  [theme=dark] .colab-df-quickchart:hover {\n",
              "    background-color: #434B5C;\n",
              "    box-shadow: 0px 1px 3px 1px rgba(0, 0, 0, 0.15);\n",
              "    filter: drop-shadow(0px 1px 2px rgba(0, 0, 0, 0.3));\n",
              "    fill: #FFFFFF;\n",
              "  }\n",
              "</style>\n",
              "\n",
              "    <script>\n",
              "      async function quickchart(key) {\n",
              "        const containerElement = document.querySelector('#' + key);\n",
              "        const charts = await google.colab.kernel.invokeFunction(\n",
              "            'suggestCharts', [key], {});\n",
              "      }\n",
              "    </script>\n",
              "\n",
              "      <script>\n",
              "\n",
              "function displayQuickchartButton(domScope) {\n",
              "  let quickchartButtonEl =\n",
              "    domScope.querySelector('#df-db6b5394-e3ce-440c-a48d-b02bce388d32 button.colab-df-quickchart');\n",
              "  quickchartButtonEl.style.display =\n",
              "    google.colab.kernel.accessAllowed ? 'block' : 'none';\n",
              "}\n",
              "\n",
              "        displayQuickchartButton(document);\n",
              "      </script>\n",
              "      <style>\n",
              "    .colab-df-container {\n",
              "      display:flex;\n",
              "      flex-wrap:wrap;\n",
              "      gap: 12px;\n",
              "    }\n",
              "\n",
              "    .colab-df-convert {\n",
              "      background-color: #E8F0FE;\n",
              "      border: none;\n",
              "      border-radius: 50%;\n",
              "      cursor: pointer;\n",
              "      display: none;\n",
              "      fill: #1967D2;\n",
              "      height: 32px;\n",
              "      padding: 0 0 0 0;\n",
              "      width: 32px;\n",
              "    }\n",
              "\n",
              "    .colab-df-convert:hover {\n",
              "      background-color: #E2EBFA;\n",
              "      box-shadow: 0px 1px 2px rgba(60, 64, 67, 0.3), 0px 1px 3px 1px rgba(60, 64, 67, 0.15);\n",
              "      fill: #174EA6;\n",
              "    }\n",
              "\n",
              "    [theme=dark] .colab-df-convert {\n",
              "      background-color: #3B4455;\n",
              "      fill: #D2E3FC;\n",
              "    }\n",
              "\n",
              "    [theme=dark] .colab-df-convert:hover {\n",
              "      background-color: #434B5C;\n",
              "      box-shadow: 0px 1px 3px 1px rgba(0, 0, 0, 0.15);\n",
              "      filter: drop-shadow(0px 1px 2px rgba(0, 0, 0, 0.3));\n",
              "      fill: #FFFFFF;\n",
              "    }\n",
              "  </style>\n",
              "\n",
              "      <script>\n",
              "        const buttonEl =\n",
              "          document.querySelector('#df-4a52a9db-db3b-49d4-bd76-26acf47697b2 button.colab-df-convert');\n",
              "        buttonEl.style.display =\n",
              "          google.colab.kernel.accessAllowed ? 'block' : 'none';\n",
              "\n",
              "        async function convertToInteractive(key) {\n",
              "          const element = document.querySelector('#df-4a52a9db-db3b-49d4-bd76-26acf47697b2');\n",
              "          const dataTable =\n",
              "            await google.colab.kernel.invokeFunction('convertToInteractive',\n",
              "                                                     [key], {});\n",
              "          if (!dataTable) return;\n",
              "\n",
              "          const docLinkHtml = 'Like what you see? Visit the ' +\n",
              "            '<a target=\"_blank\" href=https://colab.research.google.com/notebooks/data_table.ipynb>data table notebook</a>'\n",
              "            + ' to learn more about interactive tables.';\n",
              "          element.innerHTML = '';\n",
              "          dataTable['output_type'] = 'display_data';\n",
              "          await google.colab.output.renderOutput(dataTable, element);\n",
              "          const docLink = document.createElement('div');\n",
              "          docLink.innerHTML = docLinkHtml;\n",
              "          element.appendChild(docLink);\n",
              "        }\n",
              "      </script>\n",
              "    </div>\n",
              "  </div>\n"
            ]
          },
          "metadata": {},
          "execution_count": 5
        }
      ]
    },
    {
      "cell_type": "code",
      "source": [
        "def preprocess(Email):\n",
        "    # Remove punctuation\n",
        "    Email = re.sub(r'[^\\w\\s]', '', Email)\n",
        "\n",
        "    # Convert to lowercase\n",
        "    Email = Email.lower()\n",
        "\n",
        "    # Tokenize words and remove stopwords\n",
        "    stop_words = set(stopwords.words(\"english\"))\n",
        "    Stemmer = PorterStemmer()\n",
        "    words = word_tokenize(Email)\n",
        "    filtered_words = [Stemmer.stem(word) for word in words if word not in stop_words]\n",
        "    preprocessed_email = \" \".join(filtered_words)\n",
        "\n",
        "    return preprocessed_email"
      ],
      "metadata": {
        "id": "QZsoaWOrK9pK"
      },
      "execution_count": 6,
      "outputs": []
    },
    {
      "cell_type": "code",
      "source": [
        "#Getting datasets using bow and embed\n",
        "\n",
        "df['processed_email'] = df['email'].apply(preprocess)\n",
        "\n",
        "print(df['processed_email'])\n"
      ],
      "metadata": {
        "id": "JGhCSS8zQy_F"
      },
      "execution_count": null,
      "outputs": []
    },
    {
      "cell_type": "code",
      "source": [
        "tokenizer = Tokenizer()\n",
        "tokenizer.fit_on_texts(df['processed_email'])\n",
        "tokenizer.word_counts"
      ],
      "metadata": {
        "id": "1FRPExqgN669"
      },
      "execution_count": null,
      "outputs": []
    },
    {
      "cell_type": "code",
      "source": [
        "sequences = tokenizer.texts_to_sequences(df['processed_email'])\n",
        "sequences"
      ],
      "metadata": {
        "id": "VpQW6x1zaPiL"
      },
      "execution_count": null,
      "outputs": []
    },
    {
      "cell_type": "code",
      "source": [
        "pad_df =pad_sequences(sequences, padding=\"post\")\n",
        "pad_df.shape\n",
        "print(pad_df)"
      ],
      "metadata": {
        "colab": {
          "base_uri": "https://localhost:8080/"
        },
        "id": "QoBouNa6bGb8",
        "outputId": "a4ec2d08-45d0-4d21-c19e-855f5dc31c95"
      },
      "execution_count": 45,
      "outputs": [
        {
          "output_type": "stream",
          "name": "stdout",
          "text": [
            "[[   5 3753  289 ...    0    0    0]\n",
            " [  11  250  561 ...    0    0    0]\n",
            " [  13  378    3 ...    0    0    0]\n",
            " ...\n",
            " [8092 1065 8093 ...    0    0    0]\n",
            " [ 147 1335 1745 ...    0    0    0]\n",
            " [2227  403  179 ...    0    0    0]]\n"
          ]
        }
      ]
    },
    {
      "cell_type": "code",
      "source": [
        "X= np.array(pad_df)\n",
        "Y= df['label']\n",
        "X_train, X_test, Y_train, Y_test = train_test_split(X, Y , test_size=0.2, random_state=42)\n",
        "print( X_train.shape, Y_train.shape)"
      ],
      "metadata": {
        "colab": {
          "base_uri": "https://localhost:8080/"
        },
        "id": "zzbqCKfVcods",
        "outputId": "4831a899-bffa-4e91-faa0-30692080b9d7"
      },
      "execution_count": 38,
      "outputs": [
        {
          "output_type": "stream",
          "name": "stdout",
          "text": [
            "(4457, 80) (4457,)\n"
          ]
        }
      ]
    },
    {
      "cell_type": "code",
      "source": [
        "embedding = np.array(pad_df)"
      ],
      "metadata": {
        "id": "FAH0u1hB1GZ9"
      },
      "execution_count": 43,
      "outputs": []
    },
    {
      "cell_type": "code",
      "source": [
        "# SImple RNN model\n",
        "model = Sequential()\n",
        "model.add(Embedding(input_dim=len(tokenizer.word_index)+1, output_dim=80, input_length= 80) )\n",
        "model.add(SimpleRNN(64, activation='relu'))\n",
        "model.add(Dense(1, activation='sigmoid'))\n",
        "\n",
        "model.compile(loss='binary_crossentropy', optimizer='adam', metrics=['accuracy'])\n",
        "\n",
        "# Train the model\n",
        "model.fit(X_train, Y_train, epochs=10, batch_size=32, validation_split=0.2)\n",
        "\n",
        "# Evaluate the model on the test set\n",
        "loss, accuracy = model.evaluate(X_test, Y_test)\n",
        "print(\"Test Accuracy:\", accuracy)"
      ],
      "metadata": {
        "colab": {
          "base_uri": "https://localhost:8080/"
        },
        "id": "oeFvQMDudo1c",
        "outputId": "d52e7d41-5f67-4eea-d22e-292e585bdcba"
      },
      "execution_count": 46,
      "outputs": [
        {
          "output_type": "stream",
          "name": "stdout",
          "text": [
            "Epoch 1/10\n",
            "112/112 [==============================] - 6s 32ms/step - loss: 0.4354 - accuracy: 0.8609 - val_loss: 0.4035 - val_accuracy: 0.8621\n",
            "Epoch 2/10\n",
            "112/112 [==============================] - 3s 29ms/step - loss: 0.3930 - accuracy: 0.8670 - val_loss: 0.4108 - val_accuracy: 0.8621\n",
            "Epoch 3/10\n",
            "112/112 [==============================] - 4s 33ms/step - loss: 0.3942 - accuracy: 0.8670 - val_loss: 0.4050 - val_accuracy: 0.8621\n",
            "Epoch 4/10\n",
            "112/112 [==============================] - 5s 42ms/step - loss: 0.3950 - accuracy: 0.8670 - val_loss: 0.4018 - val_accuracy: 0.8621\n",
            "Epoch 5/10\n",
            "112/112 [==============================] - 3s 31ms/step - loss: 0.3939 - accuracy: 0.8670 - val_loss: 0.4043 - val_accuracy: 0.8621\n",
            "Epoch 6/10\n",
            "112/112 [==============================] - 3s 30ms/step - loss: 0.3951 - accuracy: 0.8670 - val_loss: 0.4013 - val_accuracy: 0.8621\n",
            "Epoch 7/10\n",
            "112/112 [==============================] - 4s 35ms/step - loss: 0.3949 - accuracy: 0.8670 - val_loss: 0.4020 - val_accuracy: 0.8621\n",
            "Epoch 8/10\n",
            "112/112 [==============================] - 5s 41ms/step - loss: 0.3933 - accuracy: 0.8670 - val_loss: 0.4014 - val_accuracy: 0.8621\n",
            "Epoch 9/10\n",
            "112/112 [==============================] - 3s 31ms/step - loss: 0.3954 - accuracy: 0.8670 - val_loss: 0.4072 - val_accuracy: 0.8621\n",
            "Epoch 10/10\n",
            "112/112 [==============================] - 4s 39ms/step - loss: 0.3941 - accuracy: 0.8670 - val_loss: 0.4012 - val_accuracy: 0.8621\n",
            "35/35 [==============================] - 0s 9ms/step - loss: 0.3952 - accuracy: 0.8655\n",
            "Test Accuracy: 0.865470826625824\n"
          ]
        }
      ]
    },
    {
      "cell_type": "code",
      "source": [
        "# Bidriect RNN model\n",
        "model = Sequential()\n",
        "model.add(Embedding(input_dim=len(tokenizer.word_index)+1, output_dim=80, input_length= 80) )\n",
        "model.add(Bidirectional(SimpleRNN(64, activation='relu')))\n",
        "model.add(Dense(1, activation='sigmoid'))\n",
        "\n",
        "model.compile(loss='binary_crossentropy', optimizer='adam', metrics=['accuracy'])\n",
        "\n",
        "# Train the model\n",
        "model.fit(X_train, Y_train, epochs=10, batch_size=32, validation_split=0.2)\n",
        "\n",
        "# Evaluate the model on the test set\n",
        "loss, accuracy = model.evaluate(X_test, Y_test)\n",
        "print(\"Test Accuracy:\", accuracy)"
      ],
      "metadata": {
        "id": "zZljVN-lnHO1",
        "colab": {
          "base_uri": "https://localhost:8080/"
        },
        "outputId": "f74766d2-94c7-4aaf-c94b-996ada0c0e87"
      },
      "execution_count": 48,
      "outputs": [
        {
          "output_type": "stream",
          "name": "stdout",
          "text": [
            "Epoch 1/10\n",
            "112/112 [==============================] - 9s 55ms/step - loss: 0.2777 - accuracy: 0.8825 - val_loss: 0.2451 - val_accuracy: 0.9462\n",
            "Epoch 2/10\n",
            "112/112 [==============================] - 6s 51ms/step - loss: 0.0456 - accuracy: 0.9882 - val_loss: 0.1163 - val_accuracy: 0.9753\n",
            "Epoch 3/10\n",
            "112/112 [==============================] - 7s 61ms/step - loss: 0.0277 - accuracy: 0.9950 - val_loss: 0.0817 - val_accuracy: 0.9787\n",
            "Epoch 4/10\n",
            "112/112 [==============================] - 5s 48ms/step - loss: 0.0072 - accuracy: 0.9983 - val_loss: 0.7700 - val_accuracy: 0.9809\n",
            "Epoch 5/10\n",
            "112/112 [==============================] - 7s 64ms/step - loss: 0.0018 - accuracy: 0.9997 - val_loss: 0.4433 - val_accuracy: 0.9821\n",
            "Epoch 6/10\n",
            "112/112 [==============================] - 5s 47ms/step - loss: 0.0026 - accuracy: 0.9994 - val_loss: 0.9218 - val_accuracy: 0.9798\n",
            "Epoch 7/10\n",
            "112/112 [==============================] - 9s 77ms/step - loss: 4.3597e-04 - accuracy: 1.0000 - val_loss: 1.8007 - val_accuracy: 0.9798\n",
            "Epoch 8/10\n",
            "112/112 [==============================] - 5s 48ms/step - loss: 1.8308e-04 - accuracy: 1.0000 - val_loss: 2.7037 - val_accuracy: 0.9821\n",
            "Epoch 9/10\n",
            "112/112 [==============================] - 7s 59ms/step - loss: 1.2141e-04 - accuracy: 1.0000 - val_loss: 6.0641 - val_accuracy: 0.9787\n",
            "Epoch 10/10\n",
            "112/112 [==============================] - 6s 55ms/step - loss: 9.4202e-05 - accuracy: 1.0000 - val_loss: 5.7530 - val_accuracy: 0.9798\n",
            "35/35 [==============================] - 0s 10ms/step - loss: 0.1167 - accuracy: 0.9794\n",
            "Test Accuracy: 0.9793722033500671\n"
          ]
        }
      ]
    },
    {
      "cell_type": "code",
      "source": [
        "# Bidriect RNN model\n",
        "model = Sequential()\n",
        "model.add(Embedding(input_dim=len(tokenizer.word_index)+1, output_dim=80, input_length= 80) )\n",
        "model.add(Bidirectional(LSTM(64, activation='relu')))\n",
        "model.add(Dense(1, activation='sigmoid'))\n",
        "\n",
        "model.compile(loss='binary_crossentropy', optimizer='adam', metrics=['accuracy'])\n",
        "\n",
        "# Train the model\n",
        "model.fit(X_train, Y_train, epochs=10, batch_size=32, validation_split=0.2)\n",
        "\n",
        "# Evaluate the model on the test set\n",
        "loss, accuracy = model.evaluate(X_test, Y_test)\n",
        "print(\"Test Accuracy:\", accuracy)"
      ],
      "metadata": {
        "colab": {
          "base_uri": "https://localhost:8080/"
        },
        "id": "TRHdUCnenOei",
        "outputId": "ff851043-c72b-4ca3-b9f7-ac55f8afbe67"
      },
      "execution_count": 49,
      "outputs": [
        {
          "output_type": "stream",
          "name": "stdout",
          "text": [
            "Epoch 1/10\n",
            "112/112 [==============================] - 20s 156ms/step - loss: 0.6824 - accuracy: 0.8670 - val_loss: 0.3149 - val_accuracy: 0.8621\n",
            "Epoch 2/10\n",
            "112/112 [==============================] - 13s 117ms/step - loss: 34860964.0000 - accuracy: 0.9035 - val_loss: 0.1084 - val_accuracy: 0.9664\n",
            "Epoch 3/10\n",
            "112/112 [==============================] - 13s 111ms/step - loss: 0.0581 - accuracy: 0.9806 - val_loss: 2238.1321 - val_accuracy: 0.9753\n",
            "Epoch 4/10\n",
            "112/112 [==============================] - 13s 118ms/step - loss: nan - accuracy: 0.9355 - val_loss: nan - val_accuracy: 0.8621\n",
            "Epoch 5/10\n",
            "112/112 [==============================] - 14s 122ms/step - loss: nan - accuracy: 0.8670 - val_loss: nan - val_accuracy: 0.8621\n",
            "Epoch 6/10\n",
            "112/112 [==============================] - 13s 119ms/step - loss: nan - accuracy: 0.8670 - val_loss: nan - val_accuracy: 0.8621\n",
            "Epoch 7/10\n",
            "112/112 [==============================] - 13s 119ms/step - loss: nan - accuracy: 0.8670 - val_loss: nan - val_accuracy: 0.8621\n",
            "Epoch 8/10\n",
            "112/112 [==============================] - 13s 115ms/step - loss: nan - accuracy: 0.8670 - val_loss: nan - val_accuracy: 0.8621\n",
            "Epoch 9/10\n",
            "112/112 [==============================] - 13s 117ms/step - loss: nan - accuracy: 0.8670 - val_loss: nan - val_accuracy: 0.8621\n",
            "Epoch 10/10\n",
            "112/112 [==============================] - 13s 117ms/step - loss: nan - accuracy: 0.8670 - val_loss: nan - val_accuracy: 0.8621\n",
            "35/35 [==============================] - 1s 23ms/step - loss: nan - accuracy: 0.8655\n",
            "Test Accuracy: 0.865470826625824\n"
          ]
        }
      ]
    }
  ]
}